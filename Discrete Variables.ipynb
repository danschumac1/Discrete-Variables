{
 "cells": [
  {
   "cell_type": "code",
   "execution_count": 1,
   "id": "5c2f4a02",
   "metadata": {},
   "outputs": [],
   "source": [
    "# I would like to take in a dictionary L=outcome R=probability. \n",
    "#turn that into the expected value\n",
    "#use the expected value to find mean value\n",
    "#use mean value to find the variance and SD"
   ]
  },
  {
   "cell_type": "code",
   "execution_count": 87,
   "id": "d8dfa855",
   "metadata": {},
   "outputs": [],
   "source": [
    "import math"
   ]
  },
  {
   "cell_type": "code",
   "execution_count": 33,
   "id": "670ea121",
   "metadata": {},
   "outputs": [],
   "source": [
    "d1 = {0:.25,1:.5,2:.25}"
   ]
  },
  {
   "cell_type": "code",
   "execution_count": 39,
   "id": "7894bdb4",
   "metadata": {},
   "outputs": [],
   "source": [
    "d2 = {1:.136, 2:.159, 3:.248, 4:.202, 5:.255}"
   ]
  },
  {
   "cell_type": "code",
   "execution_count": 34,
   "id": "6a0258b1",
   "metadata": {},
   "outputs": [
    {
     "data": {
      "text/plain": [
       "[0, 1, 2]"
      ]
     },
     "execution_count": 34,
     "metadata": {},
     "output_type": "execute_result"
    }
   ],
   "source": [
    "list(d1.keys())"
   ]
  },
  {
   "cell_type": "code",
   "execution_count": 35,
   "id": "90376500",
   "metadata": {
    "scrolled": true
   },
   "outputs": [
    {
     "data": {
      "text/plain": [
       "[0.25, 0.5, 0.25]"
      ]
     },
     "execution_count": 35,
     "metadata": {},
     "output_type": "execute_result"
    }
   ],
   "source": [
    "list(d1.values())"
   ]
  },
  {
   "cell_type": "code",
   "execution_count": 36,
   "id": "1eb3e8d2",
   "metadata": {},
   "outputs": [
    {
     "data": {
      "text/plain": [
       "0.25"
      ]
     },
     "execution_count": 36,
     "metadata": {},
     "output_type": "execute_result"
    }
   ],
   "source": [
    "list(d1.values())[0]"
   ]
  },
  {
   "cell_type": "code",
   "execution_count": 88,
   "id": "e1a6ed8b",
   "metadata": {},
   "outputs": [],
   "source": [
    "def DV_find_EV_variance_SD(d):\n",
    "    \n",
    "    #FIND EV -----------------------------------------------------------\n",
    "    #make a blank list and set a counter\n",
    "    product_values = []\n",
    "    n = 0\n",
    "    \n",
    "    #for each item in the dictionary, multiply the key by its value\n",
    "    #or for each outcome, multiply by the prob of that outcome happening\n",
    "    for item in d:\n",
    "        product_values.append(list(d.values())[n]*list(d.keys())[n])\n",
    "        n+=1\n",
    "        \n",
    "    #sum up all those values to get the expected value\n",
    "    EV = sum(product_values)\n",
    "    \n",
    "    #FIND VARIANCE ----------------------------------------------------------\n",
    "    \n",
    "    #make a blank list and reset the counter\n",
    "    dist_mean_squared = []\n",
    "    n = 0\n",
    "    \n",
    "    # #MATH HERE ISN'T RIGHT.\n",
    "    # #MATH HERE ISN'T RIGHT.\n",
    "    # #MATH HERE ISN'T RIGHT.\n",
    "    # #MATH HERE ISN'T RIGHT.\n",
    "    # #MATH HERE ISN'T RIGHT.\n",
    "    # #MATH HERE ISN'T RIGHT.\n",
    "    # #MATH HERE ISN'T RIGHT.\n",
    "    \n",
    "    #for each value in our dictionary, find distance_to_mean^2 add to new list\n",
    "    for value in d:\n",
    "        dist_mean_squared.append((((value)-EV)**2)*list(d.values())[n])\n",
    "        \n",
    "    variance = sum(dist_mean_squared)\n",
    "\n",
    "    SD = math.sqrt(variance)\n",
    "    \n",
    "    return [('mean',EV),('Variance',variance),('SD',SD)]"
   ]
  },
  {
   "cell_type": "code",
   "execution_count": 89,
   "id": "bee4a973",
   "metadata": {},
   "outputs": [
    {
     "data": {
      "text/plain": [
       "[('mean', 1.0), ('Variance', 0.5), ('SD', 0.7071067811865476)]"
      ]
     },
     "execution_count": 89,
     "metadata": {},
     "output_type": "execute_result"
    }
   ],
   "source": [
    "DV_find_EV_variance_SD(d1)"
   ]
  },
  {
   "cell_type": "code",
   "execution_count": 90,
   "id": "4d27442e",
   "metadata": {},
   "outputs": [
    {
     "data": {
      "text/plain": [
       "[('mean', 3.281), ('Variance', 1.41369348), ('SD', 1.1889884271934694)]"
      ]
     },
     "execution_count": 90,
     "metadata": {},
     "output_type": "execute_result"
    }
   ],
   "source": [
    "DV_find_EV_variance_SD(d2)"
   ]
  }
 ],
 "metadata": {
  "kernelspec": {
   "display_name": "Python 3 (ipykernel)",
   "language": "python",
   "name": "python3"
  },
  "language_info": {
   "codemirror_mode": {
    "name": "ipython",
    "version": 3
   },
   "file_extension": ".py",
   "mimetype": "text/x-python",
   "name": "python",
   "nbconvert_exporter": "python",
   "pygments_lexer": "ipython3",
   "version": "3.9.12"
  }
 },
 "nbformat": 4,
 "nbformat_minor": 5
}
